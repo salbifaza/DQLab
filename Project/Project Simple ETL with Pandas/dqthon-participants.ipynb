{
 "cells": [
  {
   "cell_type": "markdown",
   "metadata": {},
   "source": [
    "Pada proyek kali ini, Anda diminta untuk mengolah data pendaftar hackathon yang diselenggarakan oleh DQLab bernama DQThon.\n",
    "\n",
    "Dataset ini terdiri dari 5000 baris data (5000 pendaftar) dengan format CSV (Comma-separated values) dan memiliki beberapa kolom diantaranya:\n",
    "<ol>\n",
    "    <li>participant_id: ID dari peserta/partisipan hackathon. Kolom ini bersifat unique sehingga antar peserta pasti memiliki ID yang berbeda</li>\n",
    "    <li>first_name: nama depan peserta</li>\n",
    "    <li>last_name: nama belakang peserta</li>\n",
    "    <li>birth_date: tanggal lahir peserta</li>\n",
    "    <li>address: alamat tempat tinggal peserta</li>\n",
    "    <li>phone_number: nomor hp/telepon peserta</li>\n",
    "    <li>country: negara asal peserta</li>\n",
    "    <li>institute: institusi peserta saat ini, bisa berupa nama perusahaan maupun nama universitas</li>\n",
    "    <li>occupation: pekerjaan peserta saat ini</li>\n",
    "    <li>register_time: waktu peserta melakukan pendaftaran hackathon dalam second</li>\n",
    "</ol>\n",
    "Namun pada proyek ini nantinya Anda diminta untuk menghasilkan beberapa kolom dengan memanfaatkan kolom-kolom yang ada, sehingga akhir dari proyek ini berupa hasil transformasi data dengan beberapa kolom baru selain dari 10 kolom diatas.\n",
    "\n",
    "Sebagai pemanasan dalam proyek ini, Anda dipersilakan untuk membuka isi datasetnya dan melihat values-nya."
   ]
  },
  {
   "cell_type": "markdown",
   "metadata": {},
   "source": [
    "<h3>Extract</h3>\n",
    "Extract merupakan proses meng-ekstraksi data dari sumber, sumber data ini bisa berupa relational data (SQL) atau tabel, nonrelational (NoSQL) maupun yang lainnya.\n",
    "\n",
    "Tugas Anda adalah baca terlebih dahulu dataset ini sebagai CSV agar nantinya bisa diolah. Gunakan live code editor untuk menampilkan dataset.\n",
    "\n",
    "File tersebut bisa diakses di path dqthon-participants.csv."
   ]
  },
  {
   "cell_type": "code",
   "execution_count": 1,
   "metadata": {},
   "outputs": [
    {
     "name": "stdout",
     "output_type": "stream",
     "text": [
      "<class 'pandas.core.frame.DataFrame'>\n",
      "RangeIndex: 5000 entries, 0 to 4999\n",
      "Data columns (total 10 columns):\n",
      " #   Column          Non-Null Count  Dtype  \n",
      "---  ------          --------------  -----  \n",
      " 0   participant_id  5000 non-null   object \n",
      " 1   first_name      5000 non-null   object \n",
      " 2   last_name       5000 non-null   object \n",
      " 3   birth_date      5000 non-null   object \n",
      " 4   address         5000 non-null   object \n",
      " 5   phone_number    5000 non-null   object \n",
      " 6   country         5000 non-null   object \n",
      " 7   institute       5000 non-null   object \n",
      " 8   occupation      5000 non-null   object \n",
      " 9   register_time   5000 non-null   float64\n",
      "dtypes: float64(1), object(9)\n",
      "memory usage: 390.8+ KB\n"
     ]
    }
   ],
   "source": [
    "import pandas as pd\n",
    "\n",
    "df_participant = pd.read_csv('https://storage.googleapis.com/dqlab-dataset/dqthon-participants.csv')\n",
    "df_participant.head()\n",
    "df_participant.info()"
   ]
  },
  {
   "cell_type": "markdown",
   "metadata": {},
   "source": [
    "<h3>Transform Bagian I - Kode Pos</h3>\n",
    "Ada permintaan datang dari tim logistik bahwa mereka membutuhkan kode pos dari peserta agar pengiriman piala lebih mudah dan cepat sampai. Maka dari itu buatlah kolom baru bernama postal_code yang memuat informasi mengenai kode pos yang diambil dari alamat peserta (kolom address).\n",
    "\n",
    "Diketahui bahwa kode pos berada di paling akhir dari alamat tersebut.\n",
    "\n",
    "Note:\n",
    "Jika regex yang dimasukkan tidak bisa menangkap pattern dari value kolom address maka akan menghasilkan NaN."
   ]
  },
  {
   "cell_type": "code",
   "execution_count": 2,
   "metadata": {},
   "outputs": [
    {
     "data": {
      "text/plain": [
       "0             Gg. Monginsidi No. 08\\nMedan, Aceh 80734\n",
       "1       Gg. Rajawali Timur No. 7\\nPrabumulih, MA 09434\n",
       "2               Jalan Kebonjati No. 0\\nAmbon, SS 57739\n",
       "3      Jl. Yos Sudarso No. 109\\nLubuklinggau, SR 76156\n",
       "4    Jalan Gardujati No. 53\\nKediri, Sulawesi Tenga...\n",
       "Name: address, dtype: object"
      ]
     },
     "execution_count": 2,
     "metadata": {},
     "output_type": "execute_result"
    }
   ],
   "source": [
    "# Raw address column\n",
    "df_participant['address'].head()"
   ]
  },
  {
   "cell_type": "code",
   "execution_count": 3,
   "metadata": {},
   "outputs": [
    {
     "data": {
      "text/plain": [
       "0       80734\n",
       "1       09434\n",
       "2       57739\n",
       "3       76156\n",
       "4       70074\n",
       "        ...  \n",
       "4995    50268\n",
       "4996    57434\n",
       "4997    95312\n",
       "4998    80657\n",
       "4999    41134\n",
       "Name: postal_code, Length: 5000, dtype: object"
      ]
     },
     "execution_count": 3,
     "metadata": {},
     "output_type": "execute_result"
    }
   ],
   "source": [
    "# Create Postal Code Column\n",
    "df_participant['postal_code'] = df_participant['address'].str.extract(\n",
    "    r'(\\d+)$')  #Masukkan regex Anda didalam fungsi extract\n",
    "df_participant['postal_code']"
   ]
  },
  {
   "cell_type": "markdown",
   "metadata": {},
   "source": [
    "<h3>Transform Bagian II - Kota</h3>\n",
    "Selain kode pos, mereka juga membutuhkan kota dari peserta.\n",
    "\n",
    "Untuk menyediakan informasi tersebut, buatlah kolom baru bernama city yang didapat dari kolom address. Diasumsikan bahwa kota merupakan sekumpulan karakter yang terdapat setelah nomor jalan diikuti dengan \\n (newline character) atau dalam bahasa lainnya yaitu enter."
   ]
  },
  {
   "cell_type": "code",
   "execution_count": 4,
   "metadata": {},
   "outputs": [
    {
     "data": {
      "text/plain": [
       "0           Medan\n",
       "1      Prabumulih\n",
       "2           Ambon\n",
       "3    Lubuklinggau\n",
       "4          Kediri\n",
       "Name: city, dtype: object"
      ]
     },
     "execution_count": 4,
     "metadata": {},
     "output_type": "execute_result"
    }
   ],
   "source": [
    "# Create City Column\n",
    "df_participant['city'] = df_participant['address'].str.extract(r'(?<=\\n)(\\w.+)(?=,)')\n",
    "df_participant['city'].head()"
   ]
  },
  {
   "cell_type": "markdown",
   "metadata": {},
   "source": [
    "<h3>Transform Bagian III - Github</h3>\n",
    "Salah satu parameter untuk mengetahui proyek apa saja yang pernah dikerjakan oleh peserta yaitu dari git repository mereka.\n",
    "\n",
    "Pada kasus ini kita menggunakan profil github sebagai parameternya. Tugas Anda yaitu membuat kolom baru bernama github_profile yang merupakan link profil github dari peserta.\n",
    "\n",
    "Diketahui bahwa profil github mereka merupakan gabungan dari first_name dan last_name yang sudah di-lowercase. "
   ]
  },
  {
   "cell_type": "code",
   "execution_count": 5,
   "metadata": {},
   "outputs": [
    {
     "data": {
      "text/plain": [
       "0      https://github.com/citranurdiyanti\n",
       "1         https://github.com/arissetiawan\n",
       "2    https://github.com/corneliahandayani\n",
       "3          https://github.com/solehrajasa\n",
       "4           https://github.com/viviastuti\n",
       "Name: github_profile, dtype: object"
      ]
     },
     "execution_count": 5,
     "metadata": {},
     "output_type": "execute_result"
    }
   ],
   "source": [
    "# Create github profile column\n",
    "df_participant['github_profile'] = 'https://github.com/' + df_participant[\n",
    "    'first_name'].str.lower() + df_participant['last_name'].str.lower()\n",
    "df_participant['github_profile'].head()"
   ]
  },
  {
   "cell_type": "markdown",
   "metadata": {},
   "source": [
    "<h3>Transform Bagian IV - Nomor Handphone</h3>\n",
    "Jika kita lihat kembali, ternyata nomor handphone yang ada pada data csv kita memiliki format yang berbeda-beda. Maka dari itu, kita perlu untuk melakukan cleansing pada data nomor handphone agar memiliki format yang sama. Anda sebagai Data Engineer diberi privilege untuk menentukan format nomor handphone yang benar. Pada kasus ini mari kita samakan formatnya dengan aturan:\n",
    "<ol>\n",
    "    <li>Jika awalan nomor HP berupa angka 62 atau +62 yang merupakan kode telepon Indonesia, maka diterjemahkan ke 0.</li>\n",
    "    <li>Tidak ada tanda baca seperti kurung buka, kurung tutup, strip⟶ ()-</li>\n",
    "    <li>Tidak ada spasi pada nomor HP nama kolom untuk menyimpan hasil cleansing pada nomor HP yaitu cleaned_phone_number</li>\n",
    "</ol>"
   ]
  },
  {
   "cell_type": "code",
   "execution_count": 6,
   "metadata": {},
   "outputs": [
    {
     "data": {
      "text/plain": [
       "0       (0151) 081 2706\n",
       "1    +62 (036) 461 7027\n",
       "2          089 833 6695\n",
       "3    +62 (418) 329-4756\n",
       "4            0812511835\n",
       "Name: phone_number, dtype: object"
      ]
     },
     "execution_count": 6,
     "metadata": {},
     "output_type": "execute_result"
    }
   ],
   "source": [
    "# Raw Phone Number\n",
    "df_participant['phone_number'].head()"
   ]
  },
  {
   "cell_type": "code",
   "execution_count": 7,
   "metadata": {},
   "outputs": [
    {
     "name": "stderr",
     "output_type": "stream",
     "text": [
      "C:\\Users\\User\\AppData\\Local\\Temp/ipykernel_7916/4081023883.py:2: FutureWarning: The default value of regex will change from True to False in a future version.\n",
      "  df_participant['cleaned_phone_number'] = df_participant[\n",
      "C:\\Users\\User\\AppData\\Local\\Temp/ipykernel_7916/4081023883.py:4: FutureWarning: The default value of regex will change from True to False in a future version.\n",
      "  df_participant['cleaned_phone_number'] = df_participant[\n",
      "C:\\Users\\User\\AppData\\Local\\Temp/ipykernel_7916/4081023883.py:6: FutureWarning: The default value of regex will change from True to False in a future version.\n",
      "  df_participant['cleaned_phone_number'] = df_participant[\n"
     ]
    },
    {
     "data": {
      "text/plain": [
       "0    01510812706\n",
       "1    00364617027\n",
       "2     0898336695\n",
       "3    04183294756\n",
       "4     0812511835\n",
       "Name: cleaned_phone_number, dtype: object"
      ]
     },
     "execution_count": 7,
     "metadata": {},
     "output_type": "execute_result"
    }
   ],
   "source": [
    "# Transform Phone Number to Cleaned phone number\n",
    "df_participant['cleaned_phone_number'] = df_participant[\n",
    "    'phone_number'].str.replace(r'^(\\+62|62)', '0')\n",
    "df_participant['cleaned_phone_number'] = df_participant[\n",
    "    'cleaned_phone_number'].str.replace(r'[()-]', '')\n",
    "df_participant['cleaned_phone_number'] = df_participant[\n",
    "    'cleaned_phone_number'].str.replace(r'\\s+', '')\n",
    "df_participant['cleaned_phone_number'].head()"
   ]
  },
  {
   "cell_type": "markdown",
   "metadata": {},
   "source": [
    "<h3>Transform Bagian V - Nama Tim</h3>\n",
    "Dataset saat ini belum memuat nama tim, dan rupanya dari tim Data Analyst membutuhkan informasi terkait nama tim dari masing-masing peserta.\n",
    "\n",
    "Diketahui bahwa nama tim merupakan gabungan nilai dari kolom first_name, last_name, country dan institute.\n",
    "\n",
    "Tugas Anda yakni buatlah kolom baru dengan nama team_name yang memuat informasi nama tim dari peserta."
   ]
  },
  {
   "cell_type": "code",
   "execution_count": 8,
   "metadata": {},
   "outputs": [
    {
     "data": {
      "text/plain": [
       "0       CN-Georgia-UPM\n",
       "1    AS-Korea Utara-UD\n",
       "2        CH-Komoro-UHP\n",
       "3       SR-Eritrea-PTY\n",
       "4      VA-Aljazair-PHR\n",
       "Name: team_name, dtype: object"
      ]
     },
     "execution_count": 8,
     "metadata": {},
     "output_type": "execute_result"
    }
   ],
   "source": [
    "def func(col):\n",
    "    abbrev_name = \"%s%s\" % (col['first_name'][0], col['last_name'][0])\n",
    "    country = col['country']\n",
    "    abbrev_institute = '%s' % (''.join(\n",
    "        list(map(lambda word: word[0], col['institute'].split()))))\n",
    "    return \"%s-%s-%s\" % (abbrev_name, country, abbrev_institute)\n",
    "\n",
    "\n",
    "df_participant['team_name'] = df_participant.apply(func, axis=1)\n",
    "df_participant['team_name'].head()"
   ]
  },
  {
   "cell_type": "markdown",
   "metadata": {},
   "source": [
    "<h3>Transform Bagian VI - Email</h3>\n",
    "Setelah dilihat kembali dari data peserta yang dimiliki, ternyata ada satu informasi yang penting namun belum tersedia, yaitu email.\n",
    "\n",
    "Anda sebagai Data Engineer diminta untuk menyediakan informasi email dari peserta dengan aturan bahwa format email sebagai berikut:\n",
    "<pre>\n",
    "Format email:\n",
    "xxyy@aa.bb.[ac/com].[cc]\n",
    "\n",
    "Keterangan:\n",
    "xx -> nama depan (first_name) dalam lowercase\n",
    "yy -> nama belakang (last_name) dalam lowercase\n",
    "aa -> nama institusi\n",
    "\n",
    "Untuk nilai bb, dan cc mengikuti nilai dari aa. Aturannya:\n",
    "- Jika institusi nya merupakan Universitas, maka\n",
    "  bb -> gabungan dari huruf pertama pada setiap kata dari nama Universitas dalam lowercase\n",
    "  Kemudian, diikuti dengan .ac yang menandakan akademi/institusi belajar dan diikuti dengan pattern cc\n",
    "- Jika institusi bukan merupakan Universitas, maka\n",
    "  bb -> gabungan dari huruf pertama pada setiap kata dari nama Universitas dalam lowercase\n",
    "  Kemudian, diikuti dengan .com. Perlu diketahui bahwa pattern cc tidak berlaku pada kondisi ini\n",
    "\n",
    "cc -> merupakan negara asal peserta, adapun aturannya:\n",
    "- Jika banyaknya kata pada negara tersebut lebih dari 1 maka ambil singkatan dari negara tersebut dalam lowercase\n",
    "- Namun, jika banyaknya kata hanya 1 maka ambil 3 huruf terdepan dari negara tersebut dalam lowercase\n",
    "\n",
    "Contoh:\n",
    "  Nama depan: Citra\n",
    "  Nama belakang: Nurdiyanti\n",
    "  Institusi: UD Prakasa Mandasari\n",
    "  Negara: Georgia\n",
    "  Maka,Email nya: citranurdiyanti@upm.geo\n",
    "  -----------------------------------\n",
    "  Nama depan: Aris\n",
    "  Nama belakang: Setiawan\n",
    "  Institusi: Universitas Diponegoro\n",
    "  Negara: Korea Utara\n",
    "  Maka, Email nya: arissetiawan@ud.ac.ku\n",
    "</pre>"
   ]
  },
  {
   "cell_type": "code",
   "execution_count": 9,
   "metadata": {},
   "outputs": [
    {
     "data": {
      "text/plain": [
       "0      citranurdiyanti@upm.com\n",
       "1        arissetiawan@ud.ac.ku\n",
       "2    corneliahandayani@uhp.com\n",
       "3          solehrajasa@pty.com\n",
       "4           viviastuti@phr.com\n",
       "Name: email, dtype: object"
      ]
     },
     "execution_count": 9,
     "metadata": {},
     "output_type": "execute_result"
    }
   ],
   "source": [
    "def func(col):\n",
    "    first_name_lower = col['first_name'].lower()\n",
    "    last_name_lower = col['last_name'].lower()\n",
    "    institute = ''.join(list(map(lambda word: word[0], col['institute'].lower().split()))) #Singkatan dari nama perusahaan dalam lowercase\n",
    "    if 'Universitas' in col['institute']:\n",
    "        if len(col['country'].split()) > 1: #Kondisi untuk mengecek apakah jumlah kata dari country lebih dari 1\n",
    "            country = ''.join(list(map(lambda word: word[0],col['country'].lower().split())))\n",
    "        else:\n",
    "            country = col['country'][:3].lower()\n",
    "        return \"%s%s@%s.ac.%s\"%(first_name_lower,last_name_lower,institute,country)\n",
    "    \n",
    "    return \"%s%s@%s.com\"%(first_name_lower,last_name_lower,institute)\n",
    "\n",
    "df_participant['email'] = df_participant.apply(func, axis=1)\n",
    "df_participant['email'].head()"
   ]
  },
  {
   "cell_type": "markdown",
   "metadata": {},
   "source": [
    "<h3>Transform Bagian VII - Tanggal Lahir</h3>\n",
    "MySQL merupakan salah satu database yang sangat populer dan digunakan untuk menyimpan data berupa tabel, termasuk data hasil pengolahan yang sudah kita lakukan ini nantinya bisa dimasukkan ke MySQL.\n",
    "\n",
    "Meskipun begitu, ada suatu aturan dari MySQL terkait format tanggal yang bisa mereka terima yaitu YYYY-MM-DD dengan keterangan:\n",
    "\n",
    "YYYY: 4 digit yang menandakan tahun\n",
    "MM: 2 digit yang menandakan bulan\n",
    "DD: 2 digit yang menandakan tanggal\n",
    "Contohnya yaitu: 2021-04-07\n",
    "\n",
    "Jika kita lihat kembali pada kolom tanggal lahir terlihat bahwa nilainya belum sesuai dengan format DATE dari MySQL\n",
    "\n",
    "(Lihat lebih detail di: https://www.mysqltutorial.org/mysql-date/).\n",
    "\n",
    "Oleh karena itu, lakukanlah formatting terhadap kolom birth_date menjadi YYYY-MM-DD dan simpan di kolom yang sama."
   ]
  },
  {
   "cell_type": "code",
   "execution_count": 10,
   "metadata": {},
   "outputs": [
    {
     "data": {
      "text/plain": [
       "0    05 Feb 1991\n",
       "1    11 Jan 1993\n",
       "2    31 Jul 1993\n",
       "3    04 Nov 1991\n",
       "4    22 Jan 2003\n",
       "Name: birth_date, dtype: object"
      ]
     },
     "execution_count": 10,
     "metadata": {},
     "output_type": "execute_result"
    }
   ],
   "source": [
    "df_participant['birth_date'].head()"
   ]
  },
  {
   "cell_type": "code",
   "execution_count": 11,
   "metadata": {},
   "outputs": [
    {
     "data": {
      "text/plain": [
       "0      1991-02-05\n",
       "1      1993-01-11\n",
       "2      1993-07-31\n",
       "3      1991-11-04\n",
       "4      2003-01-22\n",
       "          ...    \n",
       "4995   2000-04-27\n",
       "4996   1996-03-06\n",
       "4997   2003-02-14\n",
       "4998   1994-08-22\n",
       "4999   2002-02-09\n",
       "Name: birth_date, Length: 5000, dtype: datetime64[ns]"
      ]
     },
     "execution_count": 11,
     "metadata": {},
     "output_type": "execute_result"
    }
   ],
   "source": [
    "df_participant['birth_date'] = pd.to_datetime(df_participant['birth_date'], format='%d %b %Y')\n",
    "df_participant['birth_date']"
   ]
  },
  {
   "cell_type": "markdown",
   "metadata": {},
   "source": [
    "<h3>Transform Bagian VII - Tanggal Daftar Kompetisi</h3>\n",
    "Selain punya aturan mengenai format DATE, MySQL juga memberi aturan pada data yang bertipe DATETIME yaitu YYYY-MM-DD HH:mm:ss dengan keterangan:\n",
    "\n",
    "YYYY: 4 digit yang menandakan tahun\n",
    "MM: 2 digit yang menandakan bulan\n",
    "DD: 2 digit yang menandakan tanggal\n",
    "HH: 2 digit yang menandakan jam\n",
    "mm: 2 digit yang menandakan menit\n",
    "ss: 2 digit yang menandakan detik\n",
    "Contohnya yaitu: 2021-04-07 15:10:55\n",
    "\n",
    "Karena data kita mengenai waktu registrasi peserta (register_time) belum sesuai format yang seharusnya.\n",
    "\n",
    "Maka dari itu, tugas Anda yaitu untuk merubah register_time ke format DATETIME sesuai dengan aturan dari MySQL.\n",
    "\n",
    "Simpanlah hasil tersebut ke kolom register_at."
   ]
  },
  {
   "cell_type": "code",
   "execution_count": 12,
   "metadata": {},
   "outputs": [
    {
     "data": {
      "text/plain": [
       "0       1.617634e+09\n",
       "1       1.617634e+09\n",
       "2       1.617634e+09\n",
       "3       1.617634e+09\n",
       "4       1.617634e+09\n",
       "            ...     \n",
       "4995    1.617634e+09\n",
       "4996    1.617634e+09\n",
       "4997    1.617634e+09\n",
       "4998    1.617634e+09\n",
       "4999    1.617634e+09\n",
       "Name: register_time, Length: 5000, dtype: float64"
      ]
     },
     "execution_count": 12,
     "metadata": {},
     "output_type": "execute_result"
    }
   ],
   "source": [
    "df_participant['register_time']"
   ]
  },
  {
   "cell_type": "code",
   "execution_count": 13,
   "metadata": {},
   "outputs": [
    {
     "data": {
      "text/plain": [
       "0      2021-04-05 14:47:26\n",
       "1      2021-04-05 14:46:58\n",
       "2      2021-04-05 14:47:15\n",
       "3      2021-04-05 14:47:14\n",
       "4      2021-04-05 14:46:50\n",
       "               ...        \n",
       "4995   2021-04-05 14:46:16\n",
       "4996   2021-04-05 14:46:48\n",
       "4997   2021-04-05 14:46:06\n",
       "4998   2021-04-05 14:46:45\n",
       "4999   2021-04-05 14:46:51\n",
       "Name: register_at, Length: 5000, dtype: datetime64[ns]"
      ]
     },
     "execution_count": 13,
     "metadata": {},
     "output_type": "execute_result"
    }
   ],
   "source": [
    "df_participant['register_at'] = pd.to_datetime(df_participant['register_time'], unit='s')\n",
    "df_participant['register_at']"
   ]
  },
  {
   "cell_type": "markdown",
   "metadata": {},
   "source": [
    "<h3>Load</h3>\n",
    "Pada bagian load ini, data yang sudah ditransformasi sedemikian rupa sehingga sesuai dengan kebutuhan tim analyst dimasukkan kembali ke database yaitu Data Warehouse (DWH). Biasanya, dilakukan pendefinisian skema database terlebih dahulu seperti:\n",
    "<ol>\n",
    "    <li>Nama kolom</li>\n",
    "    <li>Tipe kolom</li>\n",
    "    <li>Apakah primary key, unique key, index atau bukan</li>\n",
    "    <li>Panjang kolomnya</li>\n",
    "</ol>\n",
    "Karena umumnya Data Warehouse merupakan database yang terstruktur sehingga mereka memerlukan skema sebelum datanya dimasukkan.\n",
    "\n",
    "Pandas sudah menyediakan fungsi untuk memasukkan data ke database yaitu to_sql().\n",
    "\n",
    "Detail dari fungsi tersebut bisa dilihat pada dokumentasi Pandas: https://pandas.pydata.org/docs/reference/api/pandas.DataFrame.to_sql.html"
   ]
  }
 ],
 "metadata": {
  "interpreter": {
   "hash": "2647ea34e536f865ab67ff9ddee7fd78773d956cec0cab53c79b32cd10da5d83"
  },
  "kernelspec": {
   "display_name": "Python 3.9.6 64-bit",
   "language": "python",
   "name": "python3"
  },
  "language_info": {
   "codemirror_mode": {
    "name": "ipython",
    "version": 3
   },
   "file_extension": ".py",
   "mimetype": "text/x-python",
   "name": "python",
   "nbconvert_exporter": "python",
   "pygments_lexer": "ipython3",
   "version": "3.9.6"
  },
  "orig_nbformat": 4
 },
 "nbformat": 4,
 "nbformat_minor": 2
}
